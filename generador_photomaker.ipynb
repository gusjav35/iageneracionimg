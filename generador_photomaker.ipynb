{
  "cells": [
    {
      "cell_type": "markdown",
      "metadata": {
        "id": "view-in-github",
        "colab_type": "text"
      },
      "source": [
        "<a href=\"https://colab.research.google.com/github/gusjav35/iageneracionimg/blob/main/generador_photomaker.ipynb\" target=\"_parent\"><img src=\"https://colab.research.google.com/assets/colab-badge.svg\" alt=\"Open In Colab\"/></a>"
      ]
    },
    {
      "cell_type": "code",
      "execution_count": null,
      "metadata": {
        "id": "VjYy0F2gZIPR"
      },
      "outputs": [],
      "source": [
        "!pip install diffusers transformers safetensors accelerate\n"
      ]
    },
    {
      "cell_type": "code",
      "source": [
        "from PIL import Image\n",
        "\n",
        "# Cargar imagen directamente desde el entorno de archivos\n",
        "input_image = Image.open(\"selfie.png\").convert(\"RGB\")"
      ],
      "metadata": {
        "id": "HPuL2P6j9t6B"
      },
      "execution_count": null,
      "outputs": []
    },
    {
      "cell_type": "code",
      "source": [
        "from diffusers import DiffusionPipeline\n",
        "from google.colab import userdata\n",
        "import torch\n",
        "\n",
        "# Usar el token desde secretos\n",
        "hf_token = userdata.get('HF_TOKEN')\n"
      ],
      "metadata": {
        "id": "ktwzNDi29w1u"
      },
      "execution_count": null,
      "outputs": []
    },
    {
      "cell_type": "code",
      "source": [
        "from pipeline import PhotoMakerStableDiffusionXLPipeline"
      ],
      "metadata": {
        "id": "gXmIgoA59zn9"
      },
      "execution_count": null,
      "outputs": []
    },
    {
      "cell_type": "code",
      "source": [
        "# Cargar modelo base compatible con PhotoMaker\n",
        "pipe = DiffusionPipeline.from_pretrained(\n",
        "    \"stabilityai/stable-diffusion-xl-base-1.0\",\n",
        "    torch_dtype=torch.float16 if torch.cuda.is_available() else torch.float32\n",
        ").to(\"cuda\" if torch.cuda.is_available() else \"cpu\")\n",
        "\n",
        "# Reemplazar clase base por clase PhotoMaker\n",
        "pipe.__class__ = PhotoMakerStableDiffusionXLPipeline\n",
        "\n",
        "# Cargar el adaptador de PhotoMaker\n",
        "pipe.load_photomaker_adapter(\n",
        "    pretrained_model_name_or_path_or_dict=\"TencentARC/PhotoMaker\",\n",
        "    weight_name=\"photomaker-v1.bin\",\n",
        "    trigger_word=\"img\"\n",
        ")"
      ],
      "metadata": {
        "id": "sZaJw75m92Us"
      },
      "execution_count": null,
      "outputs": []
    },
    {
      "cell_type": "code",
      "source": [
        "# Variable modificable\n",
        "especialidad = \"radiology\"  # Cambia esto por la especialidad deseada (e.g., \"pediatrician\", \"cardiologist\")\n",
        "\n",
        "# Prompt mejorado para reflejar actividad profesional\n",
        "prompt = (\n",
        "    f\"a full-body realistic photo of a young male {especialidad} actively performing tasks in a hospital setting, \"\n",
        "    f\"such as examining a patient, writing on a chart, or using medical instruments, \"\n",
        "    \"wearing appropriate medical uniform, DSLR quality, natural lighting, ultra realistic, professional, img\"\n",
        ")\n",
        "\n",
        "# Negative prompt para evitar estilos no realistas\n",
        "negative_prompt = (\n",
        "    \"cartoon, anime, illustration, drawing, painting, 3d, cgi, bad anatomy, extra limbs, disfigured face, \"\n",
        "    \"blurry, low resolution, distorted eyes, asymmetrical face, skin blemishes, unrealistic skin texture, grainy, jpeg artifacts\"\n",
        ")\n",
        "\n",
        "\n",
        "\n",
        "result = pipe(\n",
        "    prompt=prompt,\n",
        "    input_id_images=input_image,\n",
        "    negative_prompt=negative_prompt,\n",
        "    num_inference_steps=30,\n",
        "    guidance_scale=5.0\n",
        ")\n",
        "\n",
        "\n",
        "# Guardar resultado\n",
        "result.images[0].save(\"output.png\")"
      ],
      "metadata": {
        "id": "sTpL3Tn9951I"
      },
      "execution_count": null,
      "outputs": []
    },
    {
      "cell_type": "code",
      "source": [
        "from IPython.display import Image as IPyImage, display\n",
        "\n",
        "# Mostrar imagen generada\n",
        "display(IPyImage(filename=\"output.png\"))\n"
      ],
      "metadata": {
        "id": "uTawgZBI981g"
      },
      "execution_count": null,
      "outputs": []
    },
    {
      "cell_type": "code",
      "source": [
        "#Liberar memoria si ya no voy a generar imágenes\n",
        "del pipe\n",
        "gc.collect()\n",
        "if torch.cuda.is_available():\n",
        "    torch.cuda.empty_cache()\n"
      ],
      "metadata": {
        "id": "qL9zXAdKMR4T"
      },
      "execution_count": null,
      "outputs": []
    }
  ],
  "metadata": {
    "accelerator": "GPU",
    "colab": {
      "gpuType": "T4",
      "provenance": [],
      "include_colab_link": true
    },
    "kernelspec": {
      "display_name": "Python 3",
      "name": "python3"
    },
    "language_info": {
      "name": "python"
    }
  },
  "nbformat": 4,
  "nbformat_minor": 0
}